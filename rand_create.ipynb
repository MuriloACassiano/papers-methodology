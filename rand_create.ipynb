{
 "cells": [
  {
   "cell_type": "markdown",
   "metadata": {},
   "source": [
    "#   Read reliable promoter dataset, get nt % and randonly generate sequences"
   ]
  },
  {
   "cell_type": "markdown",
   "metadata": {},
   "source": [
    "The aim of this code is randomly generate a sequence dataset with the same nucleotide percentage of a given input dataset."
   ]
  },
  {
   "cell_type": "markdown",
   "metadata": {},
   "source": [
    "### The fisrt step is read a fasta file of input sequences, with this function bellow:"
   ]
  },
  {
   "cell_type": "code",
   "execution_count": 1,
   "metadata": {},
   "outputs": [],
   "source": [
    "def read_fasta(filename):\n",
    "    try:\n",
    "        arq = open(filename,\"r\")\n",
    "        content = arq.readlines()\n",
    "        arq.close()\n",
    "        seq = \"\"\n",
    "        headers = []\n",
    "        fastas = []\n",
    "        flag = -1\n",
    "        while len(content) > 0:\n",
    "            line = content.pop(0)\n",
    "            if line.startswith('>'):\n",
    "                headers.append(line.strip(\"\\n\"))\n",
    "                fastas.append('')\n",
    "                flag += 1\n",
    "            else:\n",
    "                fastas[flag] += line.strip(\"\\n\")\n",
    "        return (headers, fastas)\n",
    "    except IOError:\n",
    "        print(\"Error, please verify your file! \\n\\n\\n\")"
   ]
  },
  {
   "cell_type": "markdown",
   "metadata": {},
   "source": [
    "\"regDBsig70.fasta\" is the name of the given fasta file"
   ]
  },
  {
   "cell_type": "code",
   "execution_count": 2,
   "metadata": {},
   "outputs": [],
   "source": [
    "fa = read_fasta('UP_regDBsig70.fasta')"
   ]
  },
  {
   "cell_type": "markdown",
   "metadata": {},
   "source": [
    "The variable \"fa [i] [j]\" contains 2 lines: in line i = 0 we have the headers of each sequence of the input file and in line i = 1 we have all sequences.\n",
    "\n",
    "Note the number of sequences in the input layer below and the example with header and nucleotide sequence"
   ]
  },
  {
   "cell_type": "code",
   "execution_count": 3,
   "metadata": {},
   "outputs": [
    {
     "name": "stdout",
     "output_type": "stream",
     "text": [
      "865\n",
      ">ECK120010467\n",
      "GCCCGGGAAAAATATGCTCGCGGGCTTGCTATCTCGCTGACGGACAGGCAAATTGATGACCAGCTTTTAAACCGACTCCGT\n"
     ]
    }
   ],
   "source": [
    "print ( str(len(fa[0])) + \"\\n\" + fa[0][0] + \"\\n\" + fa[1][0] )"
   ]
  },
  {
   "cell_type": "markdown",
   "metadata": {},
   "source": [
    "### The second step is extracting nucleotides peercentages"
   ]
  },
  {
   "cell_type": "code",
   "execution_count": 4,
   "metadata": {},
   "outputs": [],
   "source": [
    "As = Cs = Gs = Ts = tot = 0"
   ]
  },
  {
   "cell_type": "markdown",
   "metadata": {},
   "source": [
    "Counting nucleotide's occurence"
   ]
  },
  {
   "cell_type": "code",
   "execution_count": 5,
   "metadata": {},
   "outputs": [],
   "source": [
    "for i in range(0,len(fa[0])):\n",
    "    As = As + (fa[1][i]).count('a') + (fa[1][i]).count('A')\n",
    "    Cs = Cs + (fa[1][i]).count('c') + (fa[1][i]).count('C')\n",
    "    Gs = Gs + (fa[1][i]).count('g') + (fa[1][i]).count('G')\n",
    "    Ts = Ts + (fa[1][i]).count('t') + (fa[1][i]).count('T')\n",
    "    tot = tot + len(fa[1][i])"
   ]
  },
  {
   "cell_type": "code",
   "execution_count": 6,
   "metadata": {},
   "outputs": [
    {
     "data": {
      "text/plain": [
       "(20167, 14250, 14061, 21587, 70065)"
      ]
     },
     "execution_count": 6,
     "metadata": {},
     "output_type": "execute_result"
    }
   ],
   "source": [
    "As, Cs, Gs, Ts, tot"
   ]
  },
  {
   "cell_type": "markdown",
   "metadata": {},
   "source": [
    "Normalizing and obataining percentages"
   ]
  },
  {
   "cell_type": "code",
   "execution_count": 7,
   "metadata": {},
   "outputs": [
    {
     "data": {
      "text/plain": [
       "(28.783272675372867, 20.338257332476985, 20.068507814172555, 30.80996217797759)"
      ]
     },
     "execution_count": 7,
     "metadata": {},
     "output_type": "execute_result"
    }
   ],
   "source": [
    "As = As/tot\n",
    "Cs = Cs/tot\n",
    "Gs = Gs/tot\n",
    "Ts = Ts/tot\n",
    "\n",
    "(As*100, Cs*100, Gs*100, Ts*100)"
   ]
  },
  {
   "cell_type": "markdown",
   "metadata": {},
   "source": [
    "### The third step is create random sequences using this percentages"
   ]
  },
  {
   "cell_type": "code",
   "execution_count": 8,
   "metadata": {},
   "outputs": [],
   "source": [
    "import random as rd\n",
    "rd.seed(1520) #setting a seed is important for reproducibility"
   ]
  },
  {
   "cell_type": "markdown",
   "metadata": {},
   "source": [
    "The strategy employed was to create intervals between 0 and 1 with divisions strategically delimited to generate intervals proportional to the probabilities / percentages of the nucleotides previously obtained."
   ]
  },
  {
   "cell_type": "code",
   "execution_count": 9,
   "metadata": {},
   "outputs": [],
   "source": [
    "def rand_nt_sig70():\n",
    "    rnd = rd.uniform(0,1)\n",
    "    if(rnd <= As):\n",
    "        return('a')\n",
    "    elif(rnd > As and rnd <= As+Cs):\n",
    "        return('c')\n",
    "    elif(rnd > As+Cs and rnd <= As+Cs+Gs):\n",
    "        return('g')\n",
    "    elif(rnd > As+Cs+Gs):\n",
    "        return('t')"
   ]
  },
  {
   "cell_type": "markdown",
   "metadata": {},
   "source": [
    "Set here the desired number of sequences:"
   ]
  },
  {
   "cell_type": "code",
   "execution_count": 10,
   "metadata": {},
   "outputs": [],
   "source": [
    "number = 1000"
   ]
  },
  {
   "cell_type": "code",
   "execution_count": 11,
   "metadata": {},
   "outputs": [],
   "source": [
    "arq = open('my_new_file.fasta', 'w')\n",
    "txt = []\n",
    "for i in range(1,number+1):\n",
    "    txt.append(\">Random \"+str(i)+\"\\n\")\n",
    "    seq = []\n",
    "    for bp in range(0,81):\n",
    "        seq.append(rand_nt_sig70())\n",
    "    txt.append(\"\".join(seq)+\"\\n\")\n",
    "\n",
    "arq.writelines(txt)\n",
    "arq.close()"
   ]
  },
  {
   "cell_type": "markdown",
   "metadata": {},
   "source": [
    "\"my_new_file.fasta\" file consists in a fasta file with the desired number of random sequences"
   ]
  },
  {
   "cell_type": "markdown",
   "metadata": {},
   "source": [
    "## (Optionally) One can verify the percentage of nucleotides in the generated strings or if there were any repeated strings"
   ]
  },
  {
   "cell_type": "code",
   "execution_count": 15,
   "metadata": {},
   "outputs": [
    {
     "data": {
      "text/plain": [
       "(28.982716049382717, 20.146913580246913, 20.114814814814817, 30.75555555555556)"
      ]
     },
     "execution_count": 15,
     "metadata": {},
     "output_type": "execute_result"
    }
   ],
   "source": [
    "rand_fa = read_fasta('my_new_file.fasta')\n",
    "As = Cs = Gs = Ts = tot = 0\n",
    "for i in range(0,len(rand_fa[0])):\n",
    "    As = As + (rand_fa[1][i]).count('a') + (rand_fa[1][i]).count('A')\n",
    "    Cs = Cs + (rand_fa[1][i]).count('c') + (rand_fa[1][i]).count('C')\n",
    "    Gs = Gs + (rand_fa[1][i]).count('g') + (rand_fa[1][i]).count('G')\n",
    "    Ts = Ts + (rand_fa[1][i]).count('t') + (rand_fa[1][i]).count('T')\n",
    "    tot = tot + len(rand_fa[1][i])\n",
    "\n",
    "    \n",
    "    \n",
    "As = As/tot\n",
    "Cs = Cs/tot\n",
    "Gs = Gs/tot\n",
    "Ts = Ts/tot\n",
    "\n",
    "(As*100, Cs*100, Gs*100, Ts*100)"
   ]
  },
  {
   "cell_type": "code",
   "execution_count": 16,
   "metadata": {},
   "outputs": [],
   "source": [
    "#a code to check for repeated seqeunces\n",
    "rnd = rand_fa\n",
    "seq = rnd[1]\n",
    "for i in range(0,len(seq)):\n",
    "    if(seq.count(seq[i]) != 1):\n",
    "            print(\"repeated\")"
   ]
  }
 ],
 "metadata": {
  "kernelspec": {
   "display_name": "Python 3",
   "language": "python",
   "name": "python3"
  },
  "language_info": {
   "codemirror_mode": {
    "name": "ipython",
    "version": 3
   },
   "file_extension": ".py",
   "mimetype": "text/x-python",
   "name": "python",
   "nbconvert_exporter": "python",
   "pygments_lexer": "ipython3",
   "version": "3.6.9"
  }
 },
 "nbformat": 4,
 "nbformat_minor": 4
}
